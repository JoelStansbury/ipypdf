{
 "cells": [
  {
   "cell_type": "markdown",
   "id": "d6f05bc3-0419-458e-bdb0-6b3acfd85769",
   "metadata": {},
   "source": [
    "# API Usage (Automation)\n",
    "The GUI is designed to demonstrate what is possible. To see how something in the GUI was accomplished, find the tab in `./ipypdf/widgets/node_tools.py` This is where all of the tools are defined. e.g. The `AutoTools` Tab visible in the GUI is a class defined in `node_tools.py` called `AutoTools`.\n",
    "\n",
    "This notebook just goes through some common interactions.\n",
    "* Layout extraction\n",
    "* Cropping\n",
    "* Table parsing\n",
    "* Raw text extraction"
   ]
  },
  {
   "cell_type": "code",
   "execution_count": 1,
   "id": "e408d343-ce7d-4be8-8edd-7a57a2184a71",
   "metadata": {},
   "outputs": [],
   "source": [
    "from pathlib import Path\n",
    "dir_name = Path(\"../tests/fixture_data/sample_pdfs\")\n",
    "fname = dir_name / \"doc.pdf\""
   ]
  },
  {
   "cell_type": "markdown",
   "id": "4e2da4fa-72a7-4fba-8a7b-7e06f19179b1",
   "metadata": {
    "tags": []
   },
   "source": [
    "You can call the `parse_layout` or `get_text_blocks` utility functions directly on a pdf without needing to load the ipypdf widget.\n",
    "\n",
    "### Parse Layout\n",
    "This function iterates through each page of the doc (you can limit this with start/stop args) and passes the rendered\n",
    "images through the paddlepaddle model to determine bbox types and boundaries. It returns an iterator of lists. The elements are the default `TextBlock` objects returned by layoutparser with some extra convinience attributes (`relative_coordinates`, and `text`)\n",
    "\n",
    "\n",
    "This cell complains about needing to initiallize the model. Either of these options will stop the complaints. If you don't mind reloading the model everytime you can safely ignore them.\n",
    "1. Initialize the model beforehand\n",
    "```python\n",
    "import layoutparser as lp\n",
    "model = lp.models.PaddleDetectionLayoutModel(\"lp://PubLayNet/ppyolov2_r50vd_dcn_365e/config\")\n",
    "blocks = list(parse_layout(fname, model))\n",
    "```\n",
    "2. Supress the Warning\n",
    "```python\n",
    "blocks = list(parse_layout(fname, ignore_warning=True))\n",
    "```"
   ]
  },
  {
   "cell_type": "code",
   "execution_count": 2,
   "id": "1dda3e6b-5908-40f4-8bed-6d25384d103b",
   "metadata": {},
   "outputs": [
    {
     "name": "stderr",
     "output_type": "stream",
     "text": [
      "c:\\git\\ipypdf\\ipypdf\\utils\\lp_util.py:48: UserWarning: No model provided: loading 'ppyolov2_r50vd_dcn_365e'\n",
      "  warnings.warn(\"No model provided: loading 'ppyolov2_r50vd_dcn_365e'\")\n"
     ]
    }
   ],
   "source": [
    "from ipypdf.utils.lp_util import parse_layout\n",
    "blocks = list(parse_layout(fname))"
   ]
  },
  {
   "cell_type": "code",
   "execution_count": 3,
   "id": "da17f23f-2097-4842-8233-4a1d7e3d5f6a",
   "metadata": {},
   "outputs": [
    {
     "name": "stdout",
     "output_type": "stream",
     "text": [
      "Title: Test Document For iPyPDF\n"
     ]
    }
   ],
   "source": [
    "# blocks[page][index].attribute\n",
    "b = blocks[0][0]\n",
    "print(f\"{b.type}: {b.text}\")"
   ]
  },
  {
   "cell_type": "markdown",
   "id": "52e7cb0f-ff72-469e-b09e-a51d4998702a",
   "metadata": {},
   "source": [
    "### Crop out the original rendered section\n",
    "From the `coordinates` attribute you can crop out the portion of the document pertaining to the Text block\n",
    "\n",
    "> Note: The ImageContainer object by default renders the pdf at 300 dpi. If this scaling changes, then the pil coordinates will be wrong.<br>\n",
    "This is the reasoning behind `relative_coordinates`"
   ]
  },
  {
   "cell_type": "code",
   "execution_count": 4,
   "id": "4d184ae2-e20c-45db-b799-df59d3835712",
   "metadata": {},
   "outputs": [
    {
     "data": {
      "image/png": "[encoded data removed]",
      "text/plain": [
       "<PIL.Image.Image image mode=RGB size=258x30 at 0x19DAB429088>"
      ]
     },
     "execution_count": 4,
     "metadata": {},
     "output_type": "execute_result"
    }
   ],
   "source": [
    "from ipypdf.utils.image_utils import ImageContainer\n",
    "\n",
    "imgs = ImageContainer(fname) # Render the pages\n",
    "im = imgs[0].crop(b.coordinates) # Crop the section out of the page\n",
    "im.resize((im.width//3,im.height//3)) # Show"
   ]
  },
  {
   "cell_type": "markdown",
   "id": "26c4a30f-6baa-4efb-b2eb-c89c621d32af",
   "metadata": {},
   "source": [
    "## Table Parsing Example"
   ]
  },
  {
   "cell_type": "code",
   "execution_count": 5,
   "id": "40d0850c-bf25-4323-8bd6-2f68fac4b088",
   "metadata": {},
   "outputs": [
    {
     "data": {
      "image/png": "[encoded data removed]",
      "text/plain": [
       "<PIL.Image.Image image mode=RGB size=434x52 at 0x19DAB427588>"
      ]
     },
     "execution_count": 5,
     "metadata": {},
     "output_type": "execute_result"
    }
   ],
   "source": [
    "tables = []\n",
    "\n",
    "# Iterate through blocks until we find a \"Table\"\n",
    "for page, page_blocks in enumerate(blocks):\n",
    "    for block in page_blocks:\n",
    "        if block.type == \"Table\":\n",
    "            # Crop out the table\n",
    "            tables.append(\n",
    "                imgs[page].crop(block.coordinates)\n",
    "            )\n",
    "im = tables[0]\n",
    "im.resize((im.width//3,im.height//3))"
   ]
  },
  {
   "cell_type": "code",
   "execution_count": 6,
   "id": "aea3ab09-94e8-4795-9e2f-78d2f697c736",
   "metadata": {},
   "outputs": [
    {
     "data": {
      "text/plain": [
       "[[((6, 4, 434, 39), 'Column 1'),\n",
       "  ((439, 4, 434, 39), 'Column 2'),\n",
       "  ((872, 4, 431, 39), 'Column 3')],\n",
       " [((6, 42, 434, 40), 'A'),\n",
       "  ((439, 42, 434, 40), '1'),\n",
       "  ((872, 42, 431, 40), '0.956')],\n",
       " [((6, 81, 434, 39), 'B'),\n",
       "  ((439, 81, 434, 39), '2'),\n",
       "  ((872, 81, 431, 39), '0.65')],\n",
       " [((6, 120, 434, 36), 'C'),\n",
       "  ((439, 120, 434, 36), '3'),\n",
       "  ((872, 120, 431, 36), '0.77')]]"
      ]
     },
     "execution_count": 6,
     "metadata": {},
     "output_type": "execute_result"
    }
   ],
   "source": [
    "from ipypdf.utils.table_extraction import img_2_table\n",
    "# Parse the table using the img_2_table utility function\n",
    "img_2_table(tables[0])"
   ]
  },
  {
   "cell_type": "code",
   "execution_count": 7,
   "id": "fe9a09e1-e55b-45f2-85b0-c6c11048d77f",
   "metadata": {},
   "outputs": [
    {
     "data": {
      "text/html": [
       "<div>\n",
       "<style scoped>\n",
       "    .dataframe tbody tr th:only-of-type {\n",
       "        vertical-align: middle;\n",
       "    }\n",
       "\n",
       "    .dataframe tbody tr th {\n",
       "        vertical-align: top;\n",
       "    }\n",
       "\n",
       "    .dataframe thead th {\n",
       "        text-align: right;\n",
       "    }\n",
       "</style>\n",
       "<table border=\"1\" class=\"dataframe\">\n",
       "  <thead>\n",
       "    <tr style=\"text-align: right;\">\n",
       "      <th></th>\n",
       "      <th>0</th>\n",
       "      <th>1</th>\n",
       "      <th>2</th>\n",
       "    </tr>\n",
       "  </thead>\n",
       "  <tbody>\n",
       "    <tr>\n",
       "      <th>0</th>\n",
       "      <td>Column 1</td>\n",
       "      <td>Column 2</td>\n",
       "      <td>Column 3</td>\n",
       "    </tr>\n",
       "    <tr>\n",
       "      <th>1</th>\n",
       "      <td>A</td>\n",
       "      <td>1</td>\n",
       "      <td>0.956</td>\n",
       "    </tr>\n",
       "    <tr>\n",
       "      <th>2</th>\n",
       "      <td>B</td>\n",
       "      <td>2</td>\n",
       "      <td>0.65</td>\n",
       "    </tr>\n",
       "    <tr>\n",
       "      <th>3</th>\n",
       "      <td>C</td>\n",
       "      <td>3</td>\n",
       "      <td>0.77</td>\n",
       "    </tr>\n",
       "  </tbody>\n",
       "</table>\n",
       "</div>"
      ],
      "text/plain": [
       "          0         1         2\n",
       "0  Column 1  Column 2  Column 3\n",
       "1         A         1     0.956\n",
       "2         B         2      0.65\n",
       "3         C         3      0.77"
      ]
     },
     "execution_count": 7,
     "metadata": {},
     "output_type": "execute_result"
    }
   ],
   "source": [
    "import pandas as pd\n",
    "\n",
    "rows = img_2_table(tables[0], no_coords=True)\n",
    "pd.DataFrame(rows)"
   ]
  },
  {
   "cell_type": "markdown",
   "id": "21c445b1-4bab-4c5f-b556-8d9d4bfa5da4",
   "metadata": {
    "tags": []
   },
   "source": [
    "### Get Text Blocks\n",
    "This is passes each page through Tesseract to get text boxes. The text blocks are indexed the same way the `LP` results. But in this case each block is just a dictionary.\n"
   ]
  },
  {
   "cell_type": "code",
   "execution_count": 8,
   "id": "cf2c47fd-bfc7-4f1b-895b-cc4be764b769",
   "metadata": {},
   "outputs": [
    {
     "data": {
      "text/plain": [
       "[['Test Document For iPyPDF',\n",
       "  'Disclaimer: This document was specifically formatted to give the best-case scenario for layout detection. It is used to test the ability of ipypdf to correctly handle different types of content.',\n",
       "  ' ',\n",
       "  'es WF',\n",
       "  ' ',\n",
       "  ' ',\n",
       "  ' ',\n",
       "  'Lorem ipsum dolor sit amet, consectetur adipiscing elit. Praesent dignissim augue quis lectus ullamcorper, eget efficitur ipsum fringilla. Vivamus elementum mollis nisi, id iaculis urna efficitur id. Vivamus magna sem, maximus sit amet sapien sed, iaculis faucibus neque. Sed id lacus cursus, efficitur sem et, aliquam magna. Duis molestie magna sed eros rhoncus sagittis. Suspendisse potenti. Curabitur malesuada ligula ut pretium pellentesque.',\n",
       "  'Heading 1 (Pure Text)',\n",
       "  'This is just normal text. It should be identified as such.',\n",
       "  'Lorem ipsum dolor sit amet, consectetur adipiscing elit. Praesent dignissim augue quis lectus ullamcorper, eget efficitur ipsum fringilla. Vivamus elementum mollis nisi, id iaculis urna efficitur id. Vivamus magna sem, maximus sit amet sapien sed, iaculis faucibus neque. Sed id lacus cursus, efficitur sem et, aliquam magna. Duis molestie magna sed eros rhoncus sagittis. Suspendisse potenti. Curabitur malesuada ligula ut pretium pellentesque.',\n",
       "  'Heading 2 (Table)',\n",
       "  'Lorem ipsum dolor sit amet, consectetur adipiscing elit. Praesent dignissim augue quis lectus ullamcorper, eget efficitur ipsum fringilla. Vivamus elementum mollis nisi, id iaculis urna efficitur id. Vivamus magna sem, maximus sit amet sapien sed, iaculis faucibus neque. Sed id lacus cursus, efficitur sem et, aliquam magna. Duis molestie magna sed eros rhoncus sagittis. Suspendisse potenti. Curabitur malesuada ligula ut pretium pellentesque.',\n",
       "  ' ',\n",
       "  ' ',\n",
       "  ' ',\n",
       "  ' ',\n",
       "  'Column 1 Column 2 Column 3 A 1 0.956 B 2 0.65 Cc 3 0.77',\n",
       "  ' ',\n",
       "  ' ',\n",
       "  ' ',\n",
       "  ' ',\n",
       "  ' ',\n",
       "  'Lorem ipsum dolor sit amet, consectetur adipiscing elit. Praesent dignissim augue quis lectus ullamcorper, eget efficitur ipsum fringilla. Vivamus elementum mollis nisi, id iaculis urna efficitur id. Vivamus magna sem, maximus sit amet sapien sed, iaculis faucibus neque. Sed id lacus cursus, efficitur sem et, aliquam magna. Duis molestie magna sed eros rhoncus sagittis. Suspendisse potenti. Curabitur malesuada ligula ut pretium pellentesque.']]"
      ]
     },
     "execution_count": 8,
     "metadata": {},
     "output_type": "execute_result"
    }
   ],
   "source": [
    "from ipypdf.utils.tess_utils import get_text_blocks\n",
    "[[b[\"value\"] for b in page] for page in get_text_blocks(fname)]"
   ]
  }
 ],
 "metadata": {
  "kernelspec": {
   "display_name": "Python 3 (ipykernel)",
   "language": "python",
   "name": "python3"
  },
  "language_info": {
   "codemirror_mode": {
    "name": "ipython",
    "version": 3
   },
   "file_extension": ".py",
   "mimetype": "text/x-python",
   "name": "python",
   "nbconvert_exporter": "python",
   "pygments_lexer": "ipython3",
   "version": "3.7.12"
  }
 },
 "nbformat": 4,
 "nbformat_minor": 5
}
