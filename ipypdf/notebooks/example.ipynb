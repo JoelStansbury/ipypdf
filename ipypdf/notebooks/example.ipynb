{
 "cells": [
  {
   "cell_type": "code",
   "execution_count": null,
   "id": "f6237d31-ae5c-429f-b7c6-9fe63bad00d0",
   "metadata": {},
   "outputs": [],
   "source": [
    "from ipypdf.widgets.better_tree import Tree, Node, TreeWidget\n",
    "from pprint import pprint"
   ]
  },
  {
   "cell_type": "code",
   "execution_count": null,
   "id": "bd68fe59-643a-4a65-a987-818b9ace269d",
   "metadata": {},
   "outputs": [],
   "source": [
    "nested = [\n",
    "    {\n",
    "        'label':'1',\n",
    "        'children': [\n",
    "            {\n",
    "                'label':'2',\n",
    "            }\n",
    "        ]\n",
    "    },\n",
    "    {\n",
    "        'label':'3',\n",
    "        'children': [\n",
    "            {\n",
    "                'label':'4',\n",
    "            }\n",
    "        ]\n",
    "    }\n",
    "]"
   ]
  },
  {
   "cell_type": "code",
   "execution_count": null,
   "id": "b844ed17-5e43-498c-958b-b317088bd49b",
   "metadata": {},
   "outputs": [],
   "source": [
    "tree = Tree()\n",
    "tree.insert_nested_dicts(nested)"
   ]
  },
  {
   "cell_type": "code",
   "execution_count": null,
   "id": "af9598fb-3866-4c41-a119-85da7a0dd335",
   "metadata": {
    "tags": []
   },
   "outputs": [],
   "source": [
    "TreeWidget(tree)"
   ]
  },
  {
   "cell_type": "code",
   "execution_count": null,
   "id": "537b61c4-a63e-4178-9559-a2fbc44889fb",
   "metadata": {},
   "outputs": [],
   "source": [
    "for i in tree.dfs():\n",
    "    print(i.data['label'])"
   ]
  },
  {
   "cell_type": "code",
   "execution_count": null,
   "id": "3d8e6800-0d03-4632-ae04-f16ddaf9c392",
   "metadata": {},
   "outputs": [],
   "source": [
    "tree.remove_children('9ccdb028-98f1-11ec-ac0a-04ed33e913bb')"
   ]
  },
  {
   "cell_type": "code",
   "execution_count": null,
   "id": "ed3396e9-1724-4598-b66b-8fee7e48dbec",
   "metadata": {},
   "outputs": [],
   "source": [
    "node_data_list = tree.to_list()"
   ]
  },
  {
   "cell_type": "code",
   "execution_count": null,
   "id": "b0b6d8e3-040e-4907-8da5-c518d8d92c84",
   "metadata": {},
   "outputs": [],
   "source": [
    "pprint(node_data_list)"
   ]
  },
  {
   "cell_type": "code",
   "execution_count": null,
   "id": "aead889a-f76f-4a36-9243-226656f8808f",
   "metadata": {},
   "outputs": [],
   "source": [
    "tree = Tree(node_data_list)\n",
    "TreeWidget(tree)"
   ]
  },
  {
   "cell_type": "code",
   "execution_count": null,
   "id": "36a77b23-4db3-4ad4-ae5e-3a6075a2b370",
   "metadata": {},
   "outputs": [],
   "source": [
    "# References to nodes are fairly flexible\n",
    "# Most references to nodes can be made via dict, Node obj, or id\n",
    "tree.move('1592795b-9820-11ec-b38f-f8e43b8112e0','15927958-9820-11ec-9751-f8e43b8112e0')"
   ]
  },
  {
   "cell_type": "code",
   "execution_count": null,
   "id": "adedb1df-a872-4107-bd00-f7614e9f9e6f",
   "metadata": {},
   "outputs": [],
   "source": [
    "# If the reference is made via dict, then it is assumed that the dict contains the key \"id\" and that id can also be found in the tree.registry\n",
    "tree.move(node_data_list[1],node_data_list[3])"
   ]
  },
  {
   "cell_type": "code",
   "execution_count": null,
   "id": "ced6e802-b1bb-4bb7-b9c1-f0b7e2238c24",
   "metadata": {},
   "outputs": [],
   "source": [
    "tree.remove(node_data_list[2])"
   ]
  },
  {
   "cell_type": "code",
   "execution_count": null,
   "id": "b4e15881-bdbc-42cb-afe3-4ecb8ce763bc",
   "metadata": {},
   "outputs": [],
   "source": [
    "# You can also construct a tree from an rglob query\n",
    "tree = Tree()\n",
    "tree.rglob(root='.',pattern='*.*')\n",
    "tw = TreeWidget(tree)\n",
    "tw"
   ]
  }
 ],
 "metadata": {
  "kernelspec": {
   "display_name": "Python 3 (ipykernel)",
   "language": "python",
   "name": "python3"
  },
  "language_info": {
   "codemirror_mode": {
    "name": "ipython",
    "version": 3
   },
   "file_extension": ".py",
   "mimetype": "text/x-python",
   "name": "python",
   "nbconvert_exporter": "python",
   "pygments_lexer": "ipython3",
   "version": "3.8.13"
  }
 },
 "nbformat": 4,
 "nbformat_minor": 5
}
