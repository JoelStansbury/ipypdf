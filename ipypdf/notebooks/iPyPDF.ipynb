{
 "cells": [
  {
   "cell_type": "markdown",
   "metadata": {
    "jp-MarkdownHeadingCollapsed": true,
    "tags": []
   },
   "source": [
    "<details>\n",
    "<summary> <strong> help </strong> </summary>\n",
    "  <list>\n",
    "    <li> The program you are currently using to view this notebook is called <code>Jupyter Lab</code>. </li>\n",
    "    <li> The menu at the top of this page (\"File\", \"Edit\", \"View\", ...) is specific to <code>jupyter lab</code> and has nothing to do with <code>iPyPDF</code>. </li>\n",
    "    <li> Learn more about <code>jupyter lab</code> at <a href=https://jupyterlab.readthedocs.io/en/stable/user/interface.html>https://jupyterlab.readthedocs.io/en/stable/user/interface.html</a> </li> \n",
    "  </list>\n",
    "  To run the tool<br>\n",
    "  1. Click on the next cell (\"from ipypdf ...\")<br>\n",
    "  2. Press <code>Shift</code> + <code>Enter</code><br>\n",
    "  \n",
    "See https://github.com/JoelStansbury/ipypdf/blob/main/README.md for iPyPDF Documentation\n",
    "  \n",
    "</details>"
   ]
  },
  {
   "cell_type": "code",
   "execution_count": null,
   "metadata": {},
   "outputs": [],
   "source": [
    "from ipypdf import App\n",
    "App()"
   ]
  },
  {
   "cell_type": "code",
   "execution_count": null,
   "metadata": {},
   "outputs": [],
   "source": []
  }
 ],
 "metadata": {
  "interpreter": {
   "hash": "9e136513eca12b0ababf41794ea3eddf1f8d8471da0f15a69b9d19b1c9c269e5"
  },
  "kernelspec": {
   "display_name": "Python 3 (ipykernel)",
   "language": "python",
   "name": "python3"
  },
  "language_info": {
   "codemirror_mode": {
    "name": "ipython",
    "version": 3
   },
   "file_extension": ".py",
   "mimetype": "text/x-python",
   "name": "python",
   "nbconvert_exporter": "python",
   "pygments_lexer": "ipython3",
   "version": "3.8.13"
  }
 },
 "nbformat": 4,
 "nbformat_minor": 4
}
