{
 "cells": [
  {
   "cell_type": "markdown",
   "id": "f7154ec5-835f-44e2-8018-6dcce6667c3b",
   "metadata": {},
   "source": [
    "# Autoation\n",
    "This is obviously not an exhaustive guide, but it shows the general procedure for automating actions which can be performed within the tool i.e. button clicks and such."
   ]
  },
  {
   "cell_type": "code",
   "execution_count": null,
   "id": "ed82d3af-d4b8-4571-ae14-e7fbf55cbeb5",
   "metadata": {},
   "outputs": [],
   "source": [
    "from ipypdf import App\n",
    "app = App()"
   ]
  },
  {
   "cell_type": "markdown",
   "id": "3a888df4-cde3-4fd9-a67f-6341c31c43dd",
   "metadata": {},
   "source": [
    "This next cell shows how to find a all pdf documents (useful for iteration). For this example we just take the first one though"
   ]
  },
  {
   "cell_type": "code",
   "execution_count": null,
   "id": "d3a035df-7c7b-4852-8afb-ac0b712d2465",
   "metadata": {},
   "outputs": [],
   "source": [
    "# get the first pdf document\n",
    "docs = [\n",
    "    node \n",
    "    for node in app.tree.dfs()  # dfs -> depth first search\n",
    "    if node.data[\"type\"] == \"pdf\"\n",
    "]"
   ]
  },
  {
   "cell_type": "code",
   "execution_count": null,
   "id": "4bcf8bc4-07f6-4fcc-9e94-dbc43f3a5e16",
   "metadata": {},
   "outputs": [],
   "source": [
    "for node in docs:\n",
    "    print(node.data['label'])"
   ]
  },
  {
   "cell_type": "markdown",
   "id": "4f21dcb7-a99d-4208-87c5-06ec876777c4",
   "metadata": {},
   "source": [
    "## Using Tools\n",
    "All of the widgets found in the tools panel are defined in `ipypdf.widgets.node_tools`. Here are some basic patterns to keep in mind.\n",
    "1. Every tool acts on a node, and therefore requires a node to be provided in the `__init__` method\n",
    "2. Every tool can call three basic procedures (`add_node`, `set_node`, and `delete_node`). You probably should not use `add` directly, but `set` and `delete` may be usefull in some cases."
   ]
  },
  {
   "cell_type": "code",
   "execution_count": null,
   "id": "e77da905-c377-4535-86bc-7b5947deaf10",
   "metadata": {},
   "outputs": [],
   "source": [
    "from ipypdf.widgets.node_tools import AutoTools\n",
    "autotool = AutoTools(docs[0])\n",
    "autotool.set_node(docs[0])  # selects a new node without re-initializing the tool (usefull for tools which load ML models like SpaCy)"
   ]
  },
  {
   "cell_type": "code",
   "execution_count": null,
   "id": "f30dd668-a5f1-4ee8-bc19-841c34b781a3",
   "metadata": {},
   "outputs": [],
   "source": [
    "autotool.delete_node()  # calling delete_node on a pdf will delete all of the previously defined structure (the document itself will not be deleted)\n",
    "autotool.extract_text()  # run tesseract parser to get the text\n",
    "# app.save()  # this mimics the save button"
   ]
  },
  {
   "cell_type": "markdown",
   "id": "6b8e3879-fc26-4845-bd7f-a98167327e74",
   "metadata": {},
   "source": [
    "## Node Utils"
   ]
  },
  {
   "cell_type": "code",
   "execution_count": null,
   "id": "6d6412bb-3022-4c29-8320-26463ebcd4b0",
   "metadata": {},
   "outputs": [],
   "source": [
    "from ipypdf.utils.tree_utils import (\n",
    "    file_path,\n",
    "    stringify,\n",
    "    select,\n",
    "    immediate_children,\n",
    "    select_by_id,\n",
    "    natural_path,\n",
    ")"
   ]
  },
  {
   "cell_type": "code",
   "execution_count": null,
   "id": "c0267a3c-ef42-4436-81a1-5a9eb3173b60",
   "metadata": {},
   "outputs": [],
   "source": [
    "# First block of text found in doc_0\n",
    "immediate_children(docs[0])[0].data[\"content\"][0]"
   ]
  },
  {
   "cell_type": "code",
   "execution_count": null,
   "id": "3ca899ae-d544-46d4-9b23-11d8900df322",
   "metadata": {},
   "outputs": [],
   "source": [
    "# Concatenates all of the textblocks together into a single string\n",
    "stringify(docs[0])"
   ]
  },
  {
   "cell_type": "code",
   "execution_count": null,
   "id": "448c98e8-f2b3-4042-96d0-e9d4d617ab79",
   "metadata": {},
   "outputs": [],
   "source": []
  }
 ],
 "metadata": {
  "kernelspec": {
   "display_name": "Python 3 (ipykernel)",
   "language": "python",
   "name": "python3"
  },
  "language_info": {
   "codemirror_mode": {
    "name": "ipython",
    "version": 3
   },
   "file_extension": ".py",
   "mimetype": "text/x-python",
   "name": "python",
   "nbconvert_exporter": "python",
   "pygments_lexer": "ipython3",
   "version": "3.8.13"
  }
 },
 "nbformat": 4,
 "nbformat_minor": 5
}
